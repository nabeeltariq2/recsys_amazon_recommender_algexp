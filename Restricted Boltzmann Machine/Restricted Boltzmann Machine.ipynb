{
 "cells": [
  {
   "cell_type": "markdown",
   "metadata": {},
   "source": [
    "# Restricted Boltzmann Machine"
   ]
  },
  {
   "cell_type": "markdown",
   "metadata": {},
   "source": []
  },
  {
   "cell_type": "markdown",
   "metadata": {},
   "source": [
    "Importing Libraries"
   ]
  },
  {
   "cell_type": "code",
   "execution_count": 140,
   "metadata": {
    "collapsed": true
   },
   "outputs": [],
   "source": [
    "import numpy as np\n",
    "import pandas as pd\n",
    "import time\n",
    "import matplotlib.pyplot as plt\n",
    "%matplotlib inline"
   ]
  },
  {
   "cell_type": "code",
   "execution_count": 141,
   "metadata": {
    "collapsed": true
   },
   "outputs": [],
   "source": [
    "df_ratings = pd.read_csv(\"cleaned_ratings.csv\", low_memory=False)\n",
    "df_items = pd.read_csv(\"cleaned_items.csv\", low_memory=False)"
   ]
  },
  {
   "cell_type": "code",
   "execution_count": 142,
   "metadata": {
    "collapsed": true
   },
   "outputs": [],
   "source": [
    "df_ratings = df_ratings[[\"user_id\", \"item_id\", \"rating\"]]\n",
    "df_ratings['rating'] = df_ratings['rating'].astype(int)\n"
   ]
  },
  {
   "cell_type": "code",
   "execution_count": 143,
   "metadata": {},
   "outputs": [
    {
     "name": "stdout",
     "output_type": "stream",
     "text": [
      "(42094, 3)\n",
      "(999, 5)\n"
     ]
    }
   ],
   "source": [
    "print(df_ratings.shape)\n",
    "print(df_items.shape)"
   ]
  },
  {
   "cell_type": "code",
   "execution_count": 144,
   "metadata": {},
   "outputs": [
    {
     "data": {
      "text/html": [
       "<div>\n",
       "<style scoped>\n",
       "    .dataframe tbody tr th:only-of-type {\n",
       "        vertical-align: middle;\n",
       "    }\n",
       "\n",
       "    .dataframe tbody tr th {\n",
       "        vertical-align: top;\n",
       "    }\n",
       "\n",
       "    .dataframe thead th {\n",
       "        text-align: right;\n",
       "    }\n",
       "</style>\n",
       "<table border=\"1\" class=\"dataframe\">\n",
       "  <thead>\n",
       "    <tr style=\"text-align: right;\">\n",
       "      <th></th>\n",
       "      <th>id</th>\n",
       "      <th>title</th>\n",
       "      <th>description</th>\n",
       "      <th>imgurl</th>\n",
       "      <th>old_id</th>\n",
       "    </tr>\n",
       "  </thead>\n",
       "  <tbody>\n",
       "    <tr>\n",
       "      <th>0</th>\n",
       "      <td>1</td>\n",
       "      <td>Cars</td>\n",
       "      <td>NaN</td>\n",
       "      <td>http://ecx.images-amazon.com/images/I/51pmW%2B...</td>\n",
       "      <td>B00000016T</td>\n",
       "    </tr>\n",
       "    <tr>\n",
       "      <th>1</th>\n",
       "      <td>2</td>\n",
       "      <td>Pet Sounds</td>\n",
       "      <td>NaN</td>\n",
       "      <td>http://ecx.images-amazon.com/images/I/51pDGkXj...</td>\n",
       "      <td>B00000016W</td>\n",
       "    </tr>\n",
       "  </tbody>\n",
       "</table>\n",
       "</div>"
      ],
      "text/plain": [
       "   id       title description  \\\n",
       "0   1        Cars         NaN   \n",
       "1   2  Pet Sounds         NaN   \n",
       "\n",
       "                                              imgurl      old_id  \n",
       "0  http://ecx.images-amazon.com/images/I/51pmW%2B...  B00000016T  \n",
       "1  http://ecx.images-amazon.com/images/I/51pDGkXj...  B00000016W  "
      ]
     },
     "execution_count": 144,
     "metadata": {},
     "output_type": "execute_result"
    }
   ],
   "source": [
    "df_items.head(2)"
   ]
  },
  {
   "cell_type": "code",
   "execution_count": 145,
   "metadata": {},
   "outputs": [
    {
     "data": {
      "text/html": [
       "<div>\n",
       "<style scoped>\n",
       "    .dataframe tbody tr th:only-of-type {\n",
       "        vertical-align: middle;\n",
       "    }\n",
       "\n",
       "    .dataframe tbody tr th {\n",
       "        vertical-align: top;\n",
       "    }\n",
       "\n",
       "    .dataframe thead th {\n",
       "        text-align: right;\n",
       "    }\n",
       "</style>\n",
       "<table border=\"1\" class=\"dataframe\">\n",
       "  <thead>\n",
       "    <tr style=\"text-align: right;\">\n",
       "      <th></th>\n",
       "      <th>user_id</th>\n",
       "      <th>item_id</th>\n",
       "      <th>rating</th>\n",
       "    </tr>\n",
       "  </thead>\n",
       "  <tbody>\n",
       "    <tr>\n",
       "      <th>0</th>\n",
       "      <td>1</td>\n",
       "      <td>206</td>\n",
       "      <td>3</td>\n",
       "    </tr>\n",
       "    <tr>\n",
       "      <th>1</th>\n",
       "      <td>1</td>\n",
       "      <td>9</td>\n",
       "      <td>5</td>\n",
       "    </tr>\n",
       "  </tbody>\n",
       "</table>\n",
       "</div>"
      ],
      "text/plain": [
       "   user_id  item_id  rating\n",
       "0        1      206       3\n",
       "1        1        9       5"
      ]
     },
     "execution_count": 145,
     "metadata": {},
     "output_type": "execute_result"
    }
   ],
   "source": [
    "df_ratings.head(2)"
   ]
  },
  {
   "cell_type": "code",
   "execution_count": 146,
   "metadata": {},
   "outputs": [
    {
     "data": {
      "text/html": [
       "<div>\n",
       "<style scoped>\n",
       "    .dataframe tbody tr th:only-of-type {\n",
       "        vertical-align: middle;\n",
       "    }\n",
       "\n",
       "    .dataframe tbody tr th {\n",
       "        vertical-align: top;\n",
       "    }\n",
       "\n",
       "    .dataframe thead th {\n",
       "        text-align: right;\n",
       "    }\n",
       "</style>\n",
       "<table border=\"1\" class=\"dataframe\">\n",
       "  <thead>\n",
       "    <tr style=\"text-align: right;\">\n",
       "      <th></th>\n",
       "      <th>id</th>\n",
       "      <th>ContinuousItemID</th>\n",
       "      <th>user_id</th>\n",
       "      <th>item_id</th>\n",
       "      <th>rating</th>\n",
       "    </tr>\n",
       "  </thead>\n",
       "  <tbody>\n",
       "    <tr>\n",
       "      <th>0</th>\n",
       "      <td>1</td>\n",
       "      <td>0</td>\n",
       "      <td>22</td>\n",
       "      <td>1</td>\n",
       "      <td>2</td>\n",
       "    </tr>\n",
       "    <tr>\n",
       "      <th>1</th>\n",
       "      <td>1</td>\n",
       "      <td>0</td>\n",
       "      <td>176</td>\n",
       "      <td>1</td>\n",
       "      <td>5</td>\n",
       "    </tr>\n",
       "  </tbody>\n",
       "</table>\n",
       "</div>"
      ],
      "text/plain": [
       "   id  ContinuousItemID  user_id  item_id  rating\n",
       "0   1                 0       22        1       2\n",
       "1   1                 0      176        1       5"
      ]
     },
     "execution_count": 146,
     "metadata": {},
     "output_type": "execute_result"
    }
   ],
   "source": [
    "df_items[\"ContinuousItemID\"] = df_items.index\n",
    "merged = df_items.merge(df_ratings, left_on=\"id\", right_on=\"item_id\").drop([\"imgurl\", \"old_id\", \"description\", \"title\"], axis=1)\n",
    "merged.head(2)"
   ]
  },
  {
   "cell_type": "code",
   "execution_count": 147,
   "metadata": {
    "collapsed": true
   },
   "outputs": [],
   "source": [
    "df_users = df_ratings.drop_duplicates(subset=\"user_id\")"
   ]
  },
  {
   "cell_type": "code",
   "execution_count": 148,
   "metadata": {},
   "outputs": [
    {
     "data": {
      "text/html": [
       "<div>\n",
       "<style scoped>\n",
       "    .dataframe tbody tr th:only-of-type {\n",
       "        vertical-align: middle;\n",
       "    }\n",
       "\n",
       "    .dataframe tbody tr th {\n",
       "        vertical-align: top;\n",
       "    }\n",
       "\n",
       "    .dataframe thead th {\n",
       "        text-align: right;\n",
       "    }\n",
       "</style>\n",
       "<table border=\"1\" class=\"dataframe\">\n",
       "  <thead>\n",
       "    <tr style=\"text-align: right;\">\n",
       "      <th></th>\n",
       "      <th>user_id</th>\n",
       "      <th>item_id</th>\n",
       "      <th>rating</th>\n",
       "    </tr>\n",
       "  </thead>\n",
       "  <tbody>\n",
       "    <tr>\n",
       "      <th>0</th>\n",
       "      <td>1</td>\n",
       "      <td>206</td>\n",
       "      <td>3</td>\n",
       "    </tr>\n",
       "    <tr>\n",
       "      <th>4</th>\n",
       "      <td>2</td>\n",
       "      <td>757</td>\n",
       "      <td>4</td>\n",
       "    </tr>\n",
       "  </tbody>\n",
       "</table>\n",
       "</div>"
      ],
      "text/plain": [
       "   user_id  item_id  rating\n",
       "0        1      206       3\n",
       "4        2      757       4"
      ]
     },
     "execution_count": 148,
     "metadata": {},
     "output_type": "execute_result"
    }
   ],
   "source": [
    "df_users.head(2)"
   ]
  },
  {
   "cell_type": "code",
   "execution_count": 149,
   "metadata": {},
   "outputs": [
    {
     "data": {
      "text/html": [
       "<div>\n",
       "<style scoped>\n",
       "    .dataframe tbody tr th:only-of-type {\n",
       "        vertical-align: middle;\n",
       "    }\n",
       "\n",
       "    .dataframe tbody tr th {\n",
       "        vertical-align: top;\n",
       "    }\n",
       "\n",
       "    .dataframe thead th {\n",
       "        text-align: right;\n",
       "    }\n",
       "</style>\n",
       "<table border=\"1\" class=\"dataframe\">\n",
       "  <thead>\n",
       "    <tr style=\"text-align: right;\">\n",
       "      <th></th>\n",
       "      <th>user_id</th>\n",
       "      <th>ContinuousUserID</th>\n",
       "      <th>ContinuousItemID</th>\n",
       "      <th>item_id</th>\n",
       "      <th>rating</th>\n",
       "    </tr>\n",
       "  </thead>\n",
       "  <tbody>\n",
       "    <tr>\n",
       "      <th>0</th>\n",
       "      <td>1</td>\n",
       "      <td>0</td>\n",
       "      <td>8</td>\n",
       "      <td>9</td>\n",
       "      <td>5</td>\n",
       "    </tr>\n",
       "    <tr>\n",
       "      <th>1</th>\n",
       "      <td>1</td>\n",
       "      <td>0</td>\n",
       "      <td>205</td>\n",
       "      <td>206</td>\n",
       "      <td>3</td>\n",
       "    </tr>\n",
       "    <tr>\n",
       "      <th>2</th>\n",
       "      <td>1</td>\n",
       "      <td>0</td>\n",
       "      <td>354</td>\n",
       "      <td>355</td>\n",
       "      <td>5</td>\n",
       "    </tr>\n",
       "    <tr>\n",
       "      <th>3</th>\n",
       "      <td>1</td>\n",
       "      <td>0</td>\n",
       "      <td>939</td>\n",
       "      <td>940</td>\n",
       "      <td>4</td>\n",
       "    </tr>\n",
       "    <tr>\n",
       "      <th>4</th>\n",
       "      <td>2</td>\n",
       "      <td>4</td>\n",
       "      <td>409</td>\n",
       "      <td>410</td>\n",
       "      <td>3</td>\n",
       "    </tr>\n",
       "  </tbody>\n",
       "</table>\n",
       "</div>"
      ],
      "text/plain": [
       "   user_id  ContinuousUserID  ContinuousItemID  item_id  rating\n",
       "0        1                 0                 8        9       5\n",
       "1        1                 0               205      206       3\n",
       "2        1                 0               354      355       5\n",
       "3        1                 0               939      940       4\n",
       "4        2                 4               409      410       3"
      ]
     },
     "execution_count": 149,
     "metadata": {},
     "output_type": "execute_result"
    }
   ],
   "source": [
    "df_users = df_users.rename(columns={'item_id': 'reduce_item_id', 'rating': 'reduce_rating'})\n",
    "df_users[\"ContinuousUserID\"] = df_users.index\n",
    "merged = df_users.merge(merged, on=\"user_id\").drop([\"reduce_item_id\", \"reduce_rating\", \"id\"], axis=1)\n",
    "\n",
    "merged.head()"
   ]
  },
  {
   "cell_type": "markdown",
   "metadata": {},
   "source": [
    "### Converting the ratings dataframe into a user-item Matrix"
   ]
  },
  {
   "cell_type": "code",
   "execution_count": 150,
   "metadata": {},
   "outputs": [
    {
     "name": "stdout",
     "output_type": "stream",
     "text": [
      "42088x999 user by movie matrix\n"
     ]
    }
   ],
   "source": [
    "import scipy.sparse as sparse\n",
    "import scipy.io\n",
    "\n",
    "\n",
    "data = merged.rating\n",
    "col = merged.ContinuousItemID\n",
    "row = merged.ContinuousUserID\n",
    "\n",
    "R = sparse.coo_matrix((data, (row, col))).tocsr()\n",
    "print ('{0}x{1} user by movie matrix'.format(*R.shape))"
   ]
  },
  {
   "cell_type": "markdown",
   "metadata": {},
   "source": [
    "### Setting up the Restricted Boltzmann Machine"
   ]
  },
  {
   "cell_type": "markdown",
   "metadata": {},
   "source": [
    "- A modified version is being used, as disucssed by Hinton\n",
    "- The data has already been preprocessed above"
   ]
  },
  {
   "cell_type": "markdown",
   "metadata": {},
   "source": [
    "The issue of missing values is taken by mapping each of the RBM nodes as as movie and take the ratings as input. Each user vector is taken as a training example."
   ]
  },
  {
   "cell_type": "markdown",
   "metadata": {},
   "source": [
    "### Building the Model"
   ]
  },
  {
   "cell_type": "code",
   "execution_count": 151,
   "metadata": {
    "collapsed": true
   },
   "outputs": [],
   "source": [
    "from __future__ import division\n",
    "import tensorflow as tf\n",
    "\n",
    "\n",
    "# visible layers set to the number of movies\n",
    "# hidden units set to 20\n",
    "n_visible,n_hidden = len(df_items), 20\n"
   ]
  },
  {
   "cell_type": "code",
   "execution_count": 152,
   "metadata": {
    "collapsed": true
   },
   "outputs": [],
   "source": [
    "#Specifying the structure\n",
    "graph = tf.Graph()\n",
    "\n",
    "with graph.as_default():\n",
    "    v_bias = tf.placeholder(tf.float32, [n_visible])\n",
    "    h_bias = tf.placeholder(tf.float32, [n_hidden])\n",
    "    W = tf.placeholder(tf.float32, [n_visible, n_hidden])\n",
    "    \n",
    "    # visible to hidden pass\n",
    "    v_1 = tf.placeholder(tf.float32, [None, n_visible])\n",
    "    h_1_ = tf.sigmoid(tf.matmul(v_1, W) + h_bias)\n",
    "    h_1 = tf.nn.relu(tf.sign(h_1_ - tf.random_uniform(tf.shape(h_1_))))\n",
    "    \n",
    "    \n",
    "    # hidden to visible pass\n",
    "    v_2_ = tf.sigmoid(tf.matmul(h_1, tf.transpose(W)) + v_bias)\n",
    "    v_2 = tf.nn.relu(tf.sign(v_2_ - tf.random_uniform(tf.shape(v_2_))))\n",
    "    h_2 = tf.nn.sigmoid(tf.matmul(v_2, W) + h_bias)\n",
    "    \n",
    "    # Learning rate\n",
    "    lr = 0.01\n",
    "    W_gradient_1 = tf.matmul(tf.transpose(v_1), h_1)\n",
    "    W_gradient_2 = tf.matmul(tf.transpose(v_2), h_2)\n",
    "    \n",
    "    contrastive_divergence = ( W_gradient_1 - W_gradient_2 ) / tf.to_float(tf.shape(v_1)[0])\n",
    "    \n",
    "    # parameter updates\n",
    "    W_update = W + lr * contrastive_divergence\n",
    "    v_bias_update = v_bias + lr * tf.reduce_mean(v_1 - v_2, 0)\n",
    "    h_bias_update = h_bias + lr * tf.reduce_mean(h_1 - h_2, 0)\n",
    "    \n",
    "    # error metrics\n",
    "    mae = tf.reduce_mean(tf.abs(v_1 - v_2))\n",
    "    rmse = tf.sqrt(tf.reduce_mean(tf.square(v_1 - v_2)))"
   ]
  },
  {
   "cell_type": "markdown",
   "metadata": {},
   "source": [
    "### Training the Model"
   ]
  },
  {
   "cell_type": "markdown",
   "metadata": {},
   "source": [
    "Specifying the number of epochs and batch sizes"
   ]
  },
  {
   "cell_type": "code",
   "execution_count": 153,
   "metadata": {
    "collapsed": true
   },
   "outputs": [],
   "source": [
    "import numpy as np\n",
    "\n",
    "\n",
    "n_epoch = 20\n",
    "batch_size = 100\n",
    "current_W = np.zeros([n_visible, n_hidden], np.float32)\n",
    "current_v_bias = np.zeros([n_visible], np.float32)\n",
    "current_h_bias = np.zeros([n_hidden], np.float32)"
   ]
  },
  {
   "cell_type": "markdown",
   "metadata": {},
   "source": [
    "Split into test and training sets"
   ]
  },
  {
   "cell_type": "code",
   "execution_count": null,
   "metadata": {
    "collapsed": true
   },
   "outputs": [],
   "source": [
    "# split into train and test\n",
    "train_R = R[0:29461]\n",
    "test_R = R[29461:]\n",
    "\n",
    "# print(train_R.shape)\n",
    "# print(test_R.shape)"
   ]
  },
  {
   "cell_type": "markdown",
   "metadata": {},
   "source": [
    "Initializing the Machine"
   ]
  },
  {
   "cell_type": "code",
   "execution_count": 159,
   "metadata": {},
   "outputs": [
    {
     "name": "stdout",
     "output_type": "stream",
     "text": [
      "MAE = 0.014073935, RMSE = 0.167520881\n",
      "MAE = 0.014015539, RMSE = 0.167346179\n",
      "MAE = 0.014009678, RMSE = 0.167361811\n",
      "MAE = 0.013917404, RMSE = 0.167048305\n",
      "MAE = 0.013886471, RMSE = 0.166959465\n",
      "MAE = 0.013873619, RMSE = 0.166951522\n",
      "MAE = 0.013825551, RMSE = 0.166812226\n",
      "MAE = 0.013737614, RMSE = 0.166558057\n",
      "MAE = 0.013757009, RMSE = 0.166596085\n",
      "MAE = 0.013720294, RMSE = 0.166510478\n",
      "MAE = 0.013710886, RMSE = 0.166490749\n",
      "MAE = 0.013633093, RMSE = 0.166257605\n",
      "MAE = 0.013638166, RMSE = 0.166216880\n",
      "MAE = 0.013592199, RMSE = 0.166073963\n",
      "MAE = 0.013551017, RMSE = 0.165936157\n",
      "MAE = 0.013482738, RMSE = 0.165794984\n",
      "MAE = 0.013515616, RMSE = 0.165866539\n",
      "MAE = 0.013535932, RMSE = 0.165969729\n",
      "MAE = 0.013518928, RMSE = 0.165917546\n",
      "MAE = 0.013484683, RMSE = 0.165775642\n",
      "\n",
      "Total Run Time\n",
      "23.24080538749695 seconds\n"
     ]
    }
   ],
   "source": [
    "errors = []\n",
    "\n",
    "start_time_total = time.time()\n",
    "\n",
    "with tf.Session(graph=graph) as sess:\n",
    "    tf.initialize_all_variables().run()\n",
    "    \n",
    "    \n",
    "    for epoch in range(n_epoch):\n",
    "#         start_time_epoch = time.time()\n",
    "        for start in range(0, train_R.shape[0]-batch_size, batch_size):\n",
    "            end = start + batch_size\n",
    "            end = start + batch_size\n",
    "            batch = train_R[start:end].todense()\n",
    "            feed_dict = { v_1: batch, W: current_W, v_bias: current_v_bias, h_bias: current_h_bias }\n",
    "            updates = [W_update, v_bias_update, h_bias_update]\n",
    "            current_W, current_v_bias, current_h_bias = sess.run(updates, feed_dict=feed_dict)\n",
    "    \n",
    "#             print(\"\\nTotal Epoch Time\")\n",
    "#             print(time.time() - start_time_epoch, \"seconds\")\n",
    "    \n",
    "        feed_dict = { v_1: test_R.todense(), W: current_W, v_bias: current_v_bias, h_bias: current_h_bias }\n",
    "        mean_average_error, root_mean_squared_error = sess.run([mae, rmse], feed_dict=feed_dict)\n",
    "        current_error = { \"MAE\": mean_average_error, \"RMSE\": root_mean_squared_error }\n",
    "        \n",
    "        print(\"MAE = {MAE:10.9f}, RMSE = {RMSE:10.9f}\".format(**current_error))\n",
    "        errors.append(current_error)\n",
    "\n",
    "print(\"\\nTotal Run Time\")\n",
    "print(time.time() - start_time_total, \"seconds\")\n",
    "\n",
    "        \n",
    "# plt.ylabel('Error')\n",
    "# plt.xlabel('Epoch')\n",
    "# plt.show()"
   ]
  },
  {
   "cell_type": "markdown",
   "metadata": {},
   "source": [
    "### Making Recommendations"
   ]
  },
  {
   "cell_type": "code",
   "execution_count": 160,
   "metadata": {
    "collapsed": true
   },
   "outputs": [],
   "source": [
    "from IPython.display import display, HTML"
   ]
  },
  {
   "cell_type": "raw",
   "metadata": {},
   "source": [
    "graph = tf.Graph()\n",
    "\n",
    "with graph.as_default():\n",
    "    v_bias = tf.placeholder(tf.float32, [n_visible])\n",
    "    h_bias = tf.placeholder(tf.float32, [n_hidden])\n",
    "    W = tf.placeholder(tf.float32, [n_visible, n_hidden])\n",
    "    v_1 = tf.placeholder(tf.float32, [None, n_visible])\n",
    "    \n",
    "    \n",
    "    h_1 = tf.nn.sigmoid(tf.matmul(v_1, W) + h_bias)\n",
    "    v_2 = tf.nn.sigmoid(tf.matmul(h_1, tf.transpose(W)) + v_bias)\n",
    "\n",
    "current_user = R[3000].todense()\n",
    "recommendations = df_items.copy(deep=True)\n",
    "recommendations[\"Ratings\"] =  current_user[0].T\n",
    "HTML(\"<h3> Rated movies </h3>\")\n",
    "display(recommendations.sort_values(by=[\"Ratings\"], ascending = False).head())\n",
    "\n",
    "\n",
    "print (\"current_user = {0}\".format(current_user))\n",
    "with tf.Session(graph=graph) as sess:\n",
    "    tf.initialize_all_variables().run()\n",
    "    feed_dict = { v_1: current_user, W: current_W, h_bias: current_h_bias }\n",
    "    h1 = sess.run(h_1, feed_dict=feed_dict)\n",
    "    feed_dict = { h_1: h1, W: current_W, v_bias: current_v_bias }\n",
    "    v2 = sess.run(v_2, feed_dict=feed_dict)\n",
    "    recommendations[\"Score\"] = v2[0] * 5.0\n",
    "    HTML(\"<h3> Recommended movies </h3>\")\n",
    "    display(recommendations.sort_values(by=[\"Score\"], ascending = False).head())"
   ]
  },
  {
   "cell_type": "code",
   "execution_count": null,
   "metadata": {
    "collapsed": true
   },
   "outputs": [],
   "source": []
  }
 ],
 "metadata": {
  "kernelspec": {
   "display_name": "Python 2",
   "language": "python",
   "name": "python2"
  },
  "language_info": {
   "codemirror_mode": {
    "name": "ipython",
    "version": 2
   },
   "file_extension": ".py",
   "mimetype": "text/x-python",
   "name": "python",
   "nbconvert_exporter": "python",
   "pygments_lexer": "ipython2",
   "version": "2.7.14"
  }
 },
 "nbformat": 4,
 "nbformat_minor": 2
}
