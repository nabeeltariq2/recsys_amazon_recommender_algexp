{
 "cells": [
  {
   "cell_type": "markdown",
   "metadata": {},
   "source": [
    "# Applying algorithms using recommender library"
   ]
  },
  {
   "cell_type": "markdown",
   "metadata": {},
   "source": [
    "This involves applying different recommenders using an algorithm library\n",
    "\n",
    "Some resources to get started, and for different algorithm options\n",
    "\n",
    "- http://surpriselib.com/\n",
    "- http://surprise.readthedocs.io/en/stable/\n"
   ]
  },
  {
   "cell_type": "markdown",
   "metadata": {},
   "source": [
    "## importing libraries"
   ]
  },
  {
   "cell_type": "code",
   "execution_count": 1,
   "metadata": {},
   "outputs": [
    {
     "ename": "ImportError",
     "evalue": "No module named model_selection",
     "output_type": "error",
     "traceback": [
      "\u001b[1;31m---------------------------------------------------------------------------\u001b[0m",
      "\u001b[1;31mImportError\u001b[0m                               Traceback (most recent call last)",
      "\u001b[1;32m<ipython-input-1-fd377424236f>\u001b[0m in \u001b[0;36m<module>\u001b[1;34m()\u001b[0m\n\u001b[0;32m      4\u001b[0m \u001b[1;32mfrom\u001b[0m \u001b[0msurprise\u001b[0m \u001b[1;32mimport\u001b[0m \u001b[0mevaluate\u001b[0m\u001b[1;33m,\u001b[0m \u001b[0mprint_perf\u001b[0m\u001b[1;33m,\u001b[0m \u001b[0mdump\u001b[0m\u001b[1;33m,\u001b[0m \u001b[0mReader\u001b[0m\u001b[1;33m,\u001b[0m \u001b[0mDataset\u001b[0m\u001b[1;33m\u001b[0m\u001b[0m\n\u001b[0;32m      5\u001b[0m \u001b[1;31m#import algorithms from surprise\u001b[0m\u001b[1;33m\u001b[0m\u001b[1;33m\u001b[0m\u001b[0m\n\u001b[1;32m----> 6\u001b[1;33m \u001b[1;32mfrom\u001b[0m \u001b[0msurprise\u001b[0m\u001b[1;33m.\u001b[0m\u001b[0mmodel_selection\u001b[0m \u001b[1;32mimport\u001b[0m \u001b[0mcross_validate\u001b[0m\u001b[1;33m\u001b[0m\u001b[0m\n\u001b[0m\u001b[0;32m      7\u001b[0m \u001b[1;32mfrom\u001b[0m \u001b[0msurprise\u001b[0m\u001b[1;33m.\u001b[0m\u001b[0mmodel_selection\u001b[0m \u001b[1;32mimport\u001b[0m \u001b[0mGridSearchCV\u001b[0m\u001b[1;33m\u001b[0m\u001b[0m\n\u001b[0;32m      8\u001b[0m \u001b[1;32mimport\u001b[0m \u001b[0mtime\u001b[0m\u001b[1;33m\u001b[0m\u001b[0m\n",
      "\u001b[1;31mImportError\u001b[0m: No module named model_selection"
     ]
    }
   ],
   "source": [
    "from __future__ import (absolute_import, division, print_function, unicode_literals)\n",
    "\n",
    "# import surprise\n",
    "from surprise import evaluate, print_perf, dump, Reader, Dataset\n",
    "#import algorithms from surprise\n",
    "from surprise.model_selection import cross_validate\n",
    "from surprise.model_selection import GridSearchCV\n",
    "import time"
   ]
  },
  {
   "cell_type": "markdown",
   "metadata": {},
   "source": [
    "Importing surprise algorithms"
   ]
  },
  {
   "cell_type": "markdown",
   "metadata": {},
   "source": [
    "### KNN Algorithms"
   ]
  },
  {
   "cell_type": "code",
   "execution_count": null,
   "metadata": {
    "collapsed": true
   },
   "outputs": [],
   "source": [
    "from surprise import KNNBasic\n",
    "from surprise import KNNBaseline\n",
    "from surprise import KNNWithMeans\n",
    "from surprise import KNNWithZScore"
   ]
  },
  {
   "cell_type": "markdown",
   "metadata": {},
   "source": [
    "### Matrix Factorization"
   ]
  },
  {
   "cell_type": "code",
   "execution_count": null,
   "metadata": {
    "collapsed": true
   },
   "outputs": [],
   "source": [
    "from surprise import NMF\n",
    "from surprise import SVD"
   ]
  },
  {
   "cell_type": "markdown",
   "metadata": {},
   "source": [
    "### Base Algorithms, SlopeOne, NormalPredictor,Baseline"
   ]
  },
  {
   "cell_type": "code",
   "execution_count": 2,
   "metadata": {
    "collapsed": true
   },
   "outputs": [],
   "source": [
    "from surprise import AlgoBase\n",
    "from surprise import SlopeOne\n",
    "from surprise import NormalPredictor\n",
    "from surprise import BaselineOnly"
   ]
  },
  {
   "cell_type": "markdown",
   "metadata": {},
   "source": [
    "### Co-Clustering"
   ]
  },
  {
   "cell_type": "code",
   "execution_count": 3,
   "metadata": {
    "collapsed": true
   },
   "outputs": [],
   "source": [
    "from surprise import CoClustering"
   ]
  },
  {
   "cell_type": "code",
   "execution_count": 4,
   "metadata": {
    "collapsed": true
   },
   "outputs": [],
   "source": [
    "import pandas as pd\n",
    "import numpy as np\n"
   ]
  },
  {
   "cell_type": "code",
   "execution_count": 5,
   "metadata": {
    "collapsed": true
   },
   "outputs": [],
   "source": [
    "from surprise import accuracy\n",
    "import numpy as np\n",
    "import pandas as pd\n",
    "np.random.seed(101)\n",
    "from collections import defaultdict\n",
    "import os, io, sys"
   ]
  },
  {
   "cell_type": "code",
   "execution_count": 6,
   "metadata": {
    "collapsed": true
   },
   "outputs": [],
   "source": [
    "mae = 0\n",
    "rmse = 0"
   ]
  },
  {
   "cell_type": "code",
   "execution_count": 7,
   "metadata": {},
   "outputs": [
    {
     "ename": "IOError",
     "evalue": "File cleaned_ratings.csv does not exist",
     "output_type": "error",
     "traceback": [
      "\u001b[1;31m---------------------------------------------------------------------------\u001b[0m",
      "\u001b[1;31mIOError\u001b[0m                                   Traceback (most recent call last)",
      "\u001b[1;32m<ipython-input-7-62c9fe88a853>\u001b[0m in \u001b[0;36m<module>\u001b[1;34m()\u001b[0m\n\u001b[1;32m----> 1\u001b[1;33m \u001b[0mdf_ratings\u001b[0m \u001b[1;33m=\u001b[0m \u001b[0mpd\u001b[0m\u001b[1;33m.\u001b[0m\u001b[0mread_csv\u001b[0m\u001b[1;33m(\u001b[0m\u001b[1;34m\"cleaned_ratings.csv\"\u001b[0m\u001b[1;33m,\u001b[0m \u001b[0mlow_memory\u001b[0m\u001b[1;33m=\u001b[0m\u001b[0mFalse\u001b[0m\u001b[1;33m)\u001b[0m\u001b[1;33m\u001b[0m\u001b[0m\n\u001b[0m",
      "\u001b[1;32mC:\\Users\\Nabeel\\Anaconda2\\lib\\site-packages\\pandas\\io\\parsers.pyc\u001b[0m in \u001b[0;36mparser_f\u001b[1;34m(filepath_or_buffer, sep, delimiter, header, names, index_col, usecols, squeeze, prefix, mangle_dupe_cols, dtype, engine, converters, true_values, false_values, skipinitialspace, skiprows, nrows, na_values, keep_default_na, na_filter, verbose, skip_blank_lines, parse_dates, infer_datetime_format, keep_date_col, date_parser, dayfirst, iterator, chunksize, compression, thousands, decimal, lineterminator, quotechar, quoting, escapechar, comment, encoding, dialect, tupleize_cols, error_bad_lines, warn_bad_lines, skipfooter, skip_footer, doublequote, delim_whitespace, as_recarray, compact_ints, use_unsigned, low_memory, buffer_lines, memory_map, float_precision)\u001b[0m\n\u001b[0;32m    653\u001b[0m                     skip_blank_lines=skip_blank_lines)\n\u001b[0;32m    654\u001b[0m \u001b[1;33m\u001b[0m\u001b[0m\n\u001b[1;32m--> 655\u001b[1;33m         \u001b[1;32mreturn\u001b[0m \u001b[0m_read\u001b[0m\u001b[1;33m(\u001b[0m\u001b[0mfilepath_or_buffer\u001b[0m\u001b[1;33m,\u001b[0m \u001b[0mkwds\u001b[0m\u001b[1;33m)\u001b[0m\u001b[1;33m\u001b[0m\u001b[0m\n\u001b[0m\u001b[0;32m    656\u001b[0m \u001b[1;33m\u001b[0m\u001b[0m\n\u001b[0;32m    657\u001b[0m     \u001b[0mparser_f\u001b[0m\u001b[1;33m.\u001b[0m\u001b[0m__name__\u001b[0m \u001b[1;33m=\u001b[0m \u001b[0mname\u001b[0m\u001b[1;33m\u001b[0m\u001b[0m\n",
      "\u001b[1;32mC:\\Users\\Nabeel\\Anaconda2\\lib\\site-packages\\pandas\\io\\parsers.pyc\u001b[0m in \u001b[0;36m_read\u001b[1;34m(filepath_or_buffer, kwds)\u001b[0m\n\u001b[0;32m    403\u001b[0m \u001b[1;33m\u001b[0m\u001b[0m\n\u001b[0;32m    404\u001b[0m     \u001b[1;31m# Create the parser.\u001b[0m\u001b[1;33m\u001b[0m\u001b[1;33m\u001b[0m\u001b[0m\n\u001b[1;32m--> 405\u001b[1;33m     \u001b[0mparser\u001b[0m \u001b[1;33m=\u001b[0m \u001b[0mTextFileReader\u001b[0m\u001b[1;33m(\u001b[0m\u001b[0mfilepath_or_buffer\u001b[0m\u001b[1;33m,\u001b[0m \u001b[1;33m**\u001b[0m\u001b[0mkwds\u001b[0m\u001b[1;33m)\u001b[0m\u001b[1;33m\u001b[0m\u001b[0m\n\u001b[0m\u001b[0;32m    406\u001b[0m \u001b[1;33m\u001b[0m\u001b[0m\n\u001b[0;32m    407\u001b[0m     \u001b[1;32mif\u001b[0m \u001b[0mchunksize\u001b[0m \u001b[1;32mor\u001b[0m \u001b[0miterator\u001b[0m\u001b[1;33m:\u001b[0m\u001b[1;33m\u001b[0m\u001b[0m\n",
      "\u001b[1;32mC:\\Users\\Nabeel\\Anaconda2\\lib\\site-packages\\pandas\\io\\parsers.pyc\u001b[0m in \u001b[0;36m__init__\u001b[1;34m(self, f, engine, **kwds)\u001b[0m\n\u001b[0;32m    762\u001b[0m             \u001b[0mself\u001b[0m\u001b[1;33m.\u001b[0m\u001b[0moptions\u001b[0m\u001b[1;33m[\u001b[0m\u001b[1;34m'has_index_names'\u001b[0m\u001b[1;33m]\u001b[0m \u001b[1;33m=\u001b[0m \u001b[0mkwds\u001b[0m\u001b[1;33m[\u001b[0m\u001b[1;34m'has_index_names'\u001b[0m\u001b[1;33m]\u001b[0m\u001b[1;33m\u001b[0m\u001b[0m\n\u001b[0;32m    763\u001b[0m \u001b[1;33m\u001b[0m\u001b[0m\n\u001b[1;32m--> 764\u001b[1;33m         \u001b[0mself\u001b[0m\u001b[1;33m.\u001b[0m\u001b[0m_make_engine\u001b[0m\u001b[1;33m(\u001b[0m\u001b[0mself\u001b[0m\u001b[1;33m.\u001b[0m\u001b[0mengine\u001b[0m\u001b[1;33m)\u001b[0m\u001b[1;33m\u001b[0m\u001b[0m\n\u001b[0m\u001b[0;32m    765\u001b[0m \u001b[1;33m\u001b[0m\u001b[0m\n\u001b[0;32m    766\u001b[0m     \u001b[1;32mdef\u001b[0m \u001b[0mclose\u001b[0m\u001b[1;33m(\u001b[0m\u001b[0mself\u001b[0m\u001b[1;33m)\u001b[0m\u001b[1;33m:\u001b[0m\u001b[1;33m\u001b[0m\u001b[0m\n",
      "\u001b[1;32mC:\\Users\\Nabeel\\Anaconda2\\lib\\site-packages\\pandas\\io\\parsers.pyc\u001b[0m in \u001b[0;36m_make_engine\u001b[1;34m(self, engine)\u001b[0m\n\u001b[0;32m    983\u001b[0m     \u001b[1;32mdef\u001b[0m \u001b[0m_make_engine\u001b[0m\u001b[1;33m(\u001b[0m\u001b[0mself\u001b[0m\u001b[1;33m,\u001b[0m \u001b[0mengine\u001b[0m\u001b[1;33m=\u001b[0m\u001b[1;34m'c'\u001b[0m\u001b[1;33m)\u001b[0m\u001b[1;33m:\u001b[0m\u001b[1;33m\u001b[0m\u001b[0m\n\u001b[0;32m    984\u001b[0m         \u001b[1;32mif\u001b[0m \u001b[0mengine\u001b[0m \u001b[1;33m==\u001b[0m \u001b[1;34m'c'\u001b[0m\u001b[1;33m:\u001b[0m\u001b[1;33m\u001b[0m\u001b[0m\n\u001b[1;32m--> 985\u001b[1;33m             \u001b[0mself\u001b[0m\u001b[1;33m.\u001b[0m\u001b[0m_engine\u001b[0m \u001b[1;33m=\u001b[0m \u001b[0mCParserWrapper\u001b[0m\u001b[1;33m(\u001b[0m\u001b[0mself\u001b[0m\u001b[1;33m.\u001b[0m\u001b[0mf\u001b[0m\u001b[1;33m,\u001b[0m \u001b[1;33m**\u001b[0m\u001b[0mself\u001b[0m\u001b[1;33m.\u001b[0m\u001b[0moptions\u001b[0m\u001b[1;33m)\u001b[0m\u001b[1;33m\u001b[0m\u001b[0m\n\u001b[0m\u001b[0;32m    986\u001b[0m         \u001b[1;32melse\u001b[0m\u001b[1;33m:\u001b[0m\u001b[1;33m\u001b[0m\u001b[0m\n\u001b[0;32m    987\u001b[0m             \u001b[1;32mif\u001b[0m \u001b[0mengine\u001b[0m \u001b[1;33m==\u001b[0m \u001b[1;34m'python'\u001b[0m\u001b[1;33m:\u001b[0m\u001b[1;33m\u001b[0m\u001b[0m\n",
      "\u001b[1;32mC:\\Users\\Nabeel\\Anaconda2\\lib\\site-packages\\pandas\\io\\parsers.pyc\u001b[0m in \u001b[0;36m__init__\u001b[1;34m(self, src, **kwds)\u001b[0m\n\u001b[0;32m   1603\u001b[0m         \u001b[0mkwds\u001b[0m\u001b[1;33m[\u001b[0m\u001b[1;34m'allow_leading_cols'\u001b[0m\u001b[1;33m]\u001b[0m \u001b[1;33m=\u001b[0m \u001b[0mself\u001b[0m\u001b[1;33m.\u001b[0m\u001b[0mindex_col\u001b[0m \u001b[1;32mis\u001b[0m \u001b[1;32mnot\u001b[0m \u001b[0mFalse\u001b[0m\u001b[1;33m\u001b[0m\u001b[0m\n\u001b[0;32m   1604\u001b[0m \u001b[1;33m\u001b[0m\u001b[0m\n\u001b[1;32m-> 1605\u001b[1;33m         \u001b[0mself\u001b[0m\u001b[1;33m.\u001b[0m\u001b[0m_reader\u001b[0m \u001b[1;33m=\u001b[0m \u001b[0mparsers\u001b[0m\u001b[1;33m.\u001b[0m\u001b[0mTextReader\u001b[0m\u001b[1;33m(\u001b[0m\u001b[0msrc\u001b[0m\u001b[1;33m,\u001b[0m \u001b[1;33m**\u001b[0m\u001b[0mkwds\u001b[0m\u001b[1;33m)\u001b[0m\u001b[1;33m\u001b[0m\u001b[0m\n\u001b[0m\u001b[0;32m   1606\u001b[0m \u001b[1;33m\u001b[0m\u001b[0m\n\u001b[0;32m   1607\u001b[0m         \u001b[1;31m# XXX\u001b[0m\u001b[1;33m\u001b[0m\u001b[1;33m\u001b[0m\u001b[0m\n",
      "\u001b[1;32mpandas/_libs/parsers.pyx\u001b[0m in \u001b[0;36mpandas._libs.parsers.TextReader.__cinit__ (pandas\\_libs\\parsers.c:4209)\u001b[1;34m()\u001b[0m\n",
      "\u001b[1;32mpandas/_libs/parsers.pyx\u001b[0m in \u001b[0;36mpandas._libs.parsers.TextReader._setup_parser_source (pandas\\_libs\\parsers.c:8873)\u001b[1;34m()\u001b[0m\n",
      "\u001b[1;31mIOError\u001b[0m: File cleaned_ratings.csv does not exist"
     ]
    }
   ],
   "source": [
    "df_ratings = pd.read_csv(\"cleaned_ratings.csv\", low_memory=False)"
   ]
  },
  {
   "cell_type": "code",
   "execution_count": null,
   "metadata": {
    "collapsed": true
   },
   "outputs": [],
   "source": [
    "df_ratings.shape"
   ]
  },
  {
   "cell_type": "code",
   "execution_count": null,
   "metadata": {
    "collapsed": true
   },
   "outputs": [],
   "source": [
    "df_ratings.head()"
   ]
  },
  {
   "cell_type": "code",
   "execution_count": null,
   "metadata": {
    "collapsed": true
   },
   "outputs": [],
   "source": [
    "def compute_recommendations(algo):\n",
    "    global df_ratings\n",
    "    df_ratings=df_ratings[['user_id','item_id','rating']]\n",
    "    df_ratings = df_ratings.dropna()\n",
    "    df_ratings = df_ratings.drop_duplicates()\n",
    "\n",
    "    #formatting the dataset using the surprise library\n",
    "    reader = Reader(line_format='user item rating', sep=',', rating_scale=(1, 5))\n",
    "    data = Dataset.load_from_df(df_ratings, reader=reader)\n",
    "    training_set = data.build_full_trainset()\n",
    "\n",
    "    algo = algo # use the singular value decomposition\n",
    "#     cross_validate(algo, data, measures=['RMSE', 'MAE'], cv=5, verbose=True)\n",
    "\n",
    "#     algorithm.fit(training_set)# fit the data to the model\n",
    "#     testing_set = training_set.build_anti_testset()\n",
    "#     predictions = algorithm.test(testing_set)# make prediction\n",
    "\n",
    "\n",
    "\n",
    "    param_grid = {'n_epochs': [5, 10], 'lr_all': [0.002, 0.005],\n",
    "                  'reg_all': [0.4, 0.6]}\n",
    "    \n",
    "    print(\"\\nGrid Search time\")\n",
    "    start_time = time.time()\n",
    "    gs = GridSearchCV(SVD, param_grid, measures=['rmse', 'mae'], cv=3)\n",
    "    gs.fit(data)\n",
    "    print(time.time() - start_time, \"seconds\")\n",
    "    \n",
    "    # best RMSE score\n",
    "    print(gs.best_score['rmse'])\n",
    "\n",
    "    # combination of parameters that gave the best RMSE score\n",
    "    print(gs.best_params['rmse'])\n",
    "    \n",
    "    \n",
    "    algo = gs.best_estimator['rmse']\n",
    "    \n",
    "    print(\"\\nCross Validation Score\")\n",
    "    cross_validate(algo, data, measures=['RMSE', 'MAE'], cv=5, verbose=True)\n",
    "\n",
    "    \n",
    "    print(\"\\nAlgorithm Train Time\")\n",
    "    start_time = time.time()\n",
    "    algo.fit(training_set)# fit the data to the model\n",
    "    print(time.time() - start_time, \"seconds\")\n",
    "    \n",
    "    \n",
    "    print(\"\\nAlgorithm BUILD Anti-Testset Time\")\n",
    "    start_time = time.time()\n",
    "    algo.fit(training_set)# fit the data to the model\n",
    "    print(time.time() - start_time, \"seconds\")\n",
    "    \n",
    "    \n",
    "    print(\"\\nAlgorithm BUILD Anti-Testset Time\")\n",
    "    start_time = time.time()\n",
    "    testing_set = training_set.build_anti_testset()\n",
    "    print(time.time() - start_time, \"seconds\")\n",
    "    \n",
    "    \n",
    "    \n",
    "    print(\"\\nAlgorithm Testing Anti_testset Time\")\n",
    "    start_time = time.time()\n",
    "    predictions = algo.test(testing_set)# make prediction\n",
    "    print(time.time() - start_time, \"seconds\")\n",
    "    \n",
    "#     print(\"\\nMean Absolute Error\", float(accuracy.mae(predictions)))\n",
    "#     print(\"\\nMean Square Error\", float(accuracy.rmse(predictions)))\n",
    "\n",
    "    global mae\n",
    "    global rmse\n",
    "    mae = accuracy.mae(predictions)\n",
    "    rmse = accuracy.rmse(predictions)\n",
    "    mae = float(mae)\n",
    "    rmse = float(rmse)\n",
    "    print(\"\\nMean Absolute Error\", mae)\n",
    "    print(\"\\nMean Square Error\", rmse)"
   ]
  },
  {
   "cell_type": "markdown",
   "metadata": {},
   "source": [
    "## A KNN Algorithm"
   ]
  },
  {
   "cell_type": "code",
   "execution_count": 48,
   "metadata": {},
   "outputs": [
    {
     "name": "stdout",
     "output_type": "stream",
     "text": [
      "Basic KNN Algorithm\n",
      "\n",
      "Grid Search time\n",
      "9.13635802268982 seconds\n",
      "0.9755618541913663\n",
      "{'n_epochs': 10, 'lr_all': 0.005, 'reg_all': 0.4}\n",
      "\n",
      "Cross Validation Score\n",
      "Evaluating RMSE, MAE of algorithm SVD on 5 split(s).\n",
      "\n",
      "                  Fold 1  Fold 2  Fold 3  Fold 4  Fold 5  Mean    Std     \n",
      "RMSE (testset)    0.9693  0.9644  0.9798  0.9618  0.9668  0.9684  0.0062  \n",
      "MAE (testset)     0.7420  0.7376  0.7530  0.7372  0.7420  0.7424  0.0057  \n",
      "Fit time          1.45    1.53    1.53    1.35    1.35    1.44    0.08    \n",
      "Test time         0.10    0.08    0.09    0.07    0.07    0.08    0.01    \n",
      "\n",
      "Algorithm Train Time\n",
      "1.5632081031799316 seconds\n",
      "\n",
      "Algorithm BUILD Anti-Testset Time\n",
      "1.9908599853515625 seconds\n",
      "\n",
      "Algorithm BUILD Anti-Testset Time\n",
      "3.8130252361297607 seconds\n",
      "\n",
      "Algorithm Testing Anti_testset Time\n",
      "39.820473432540894 seconds\n",
      "MAE:  0.2643\n",
      "RMSE: 0.3401\n",
      "\n",
      "Mean Absolute Error 0.26425497043915624\n",
      "\n",
      "Mean Square Error 0.340141389660591\n"
     ]
    }
   ],
   "source": [
    "mae = 0\n",
    "rmse = 0\n",
    "print(\"Basic KNN Algorithm\")\n",
    "compute_recommendations(KNNBasic())"
   ]
  },
  {
   "cell_type": "markdown",
   "metadata": {},
   "source": [
    "## A Matrix Factorization Algorithm"
   ]
  },
  {
   "cell_type": "code",
   "execution_count": 49,
   "metadata": {},
   "outputs": [
    {
     "name": "stdout",
     "output_type": "stream",
     "text": [
      "SVD Algorithm\n",
      "\n",
      "Grid Search time\n",
      "7.8044047355651855 seconds\n",
      "0.9761377175797857\n",
      "{'n_epochs': 10, 'lr_all': 0.005, 'reg_all': 0.4}\n",
      "\n",
      "Cross Validation Score\n",
      "Evaluating RMSE, MAE of algorithm SVD on 5 split(s).\n",
      "\n",
      "                  Fold 1  Fold 2  Fold 3  Fold 4  Fold 5  Mean    Std     \n",
      "RMSE (testset)    0.9619  0.9820  0.9727  0.9725  0.9504  0.9679  0.0108  \n",
      "MAE (testset)     0.7349  0.7507  0.7438  0.7464  0.7330  0.7418  0.0068  \n",
      "Fit time          1.17    1.15    1.11    1.15    1.07    1.13    0.03    \n",
      "Test time         0.11    0.06    0.06    0.06    0.06    0.07    0.02    \n",
      "\n",
      "Algorithm Train Time\n",
      "1.3836185932159424 seconds\n",
      "\n",
      "Algorithm BUILD Anti-Testset Time\n",
      "1.3383402824401855 seconds\n",
      "\n",
      "Algorithm BUILD Anti-Testset Time\n",
      "3.345135450363159 seconds\n",
      "\n",
      "Algorithm Testing Anti_testset Time\n",
      "38.42778992652893 seconds\n",
      "MAE:  0.2644\n",
      "RMSE: 0.3402\n",
      "\n",
      "Mean Absolute Error 0.2643806888672658\n",
      "\n",
      "Mean Square Error 0.34020838251695457\n"
     ]
    }
   ],
   "source": [
    "mae = 0\n",
    "rmse = 0\n",
    "\n",
    "print(\"SVD Algorithm\")\n",
    "compute_recommendations(SVD())"
   ]
  },
  {
   "cell_type": "markdown",
   "metadata": {},
   "source": [
    "## A Basic Algorithm"
   ]
  },
  {
   "cell_type": "code",
   "execution_count": 43,
   "metadata": {},
   "outputs": [
    {
     "name": "stdout",
     "output_type": "stream",
     "text": [
      "Random Rating Algorithm\n",
      "\n",
      "Grid Search time\n",
      "9.545884370803833 seconds\n",
      "0.976116211960863\n",
      "{'n_epochs': 10, 'lr_all': 0.005, 'reg_all': 0.4}\n",
      "\n",
      "Cross Validation Score\n",
      "Evaluating RMSE, MAE of algorithm SVD on 5 split(s).\n",
      "\n",
      "                  Fold 1  Fold 2  Fold 3  Fold 4  Fold 5  Mean    Std     \n",
      "RMSE (testset)    0.9718  0.9540  0.9652  0.9815  0.9673  0.9679  0.0089  \n",
      "MAE (testset)     0.7422  0.7379  0.7388  0.7492  0.7421  0.7420  0.0040  \n",
      "Fit time          1.31    1.47    1.63    1.64    1.60    1.53    0.13    \n",
      "Test time         0.09    0.09    0.12    0.08    0.09    0.10    0.01    \n",
      "\n",
      "Algorithm Run Time\n",
      "1.7000212669372559 seconds\n",
      "\n",
      "Algorithm BUILD Anti-Testset Time\n",
      "1.623244047164917 seconds\n",
      "\n",
      "Algorithm BUILD Anti-Testset Time\n",
      "4.306072950363159 seconds\n",
      "\n",
      "Algorithm Testing Anti_testset Time\n",
      "45.2378089427948 seconds\n",
      "MAE:  0.2643\n",
      "\n",
      "Mean Absolute Error 0.26428393657409294\n",
      "RMSE: 0.3402\n",
      "\n",
      "Mean Square Error 0.34023059234724684\n"
     ]
    }
   ],
   "source": [
    "mae = 0\n",
    "rmse = 0\n",
    "\n",
    "print(\"Random Rating Algorithm\")\n",
    "compute_recommendations(NormalPredictor())"
   ]
  },
  {
   "cell_type": "markdown",
   "metadata": {},
   "source": [
    "## A Co-Clustering Algorithm"
   ]
  },
  {
   "cell_type": "code",
   "execution_count": 50,
   "metadata": {},
   "outputs": [
    {
     "name": "stdout",
     "output_type": "stream",
     "text": [
      "A co-clustering Algorithm\n",
      "\n",
      "Grid Search time\n",
      "7.760693550109863 seconds\n",
      "0.9760097962144766\n",
      "{'n_epochs': 10, 'lr_all': 0.005, 'reg_all': 0.4}\n",
      "\n",
      "Cross Validation Score\n",
      "Evaluating RMSE, MAE of algorithm SVD on 5 split(s).\n",
      "\n",
      "                  Fold 1  Fold 2  Fold 3  Fold 4  Fold 5  Mean    Std     \n",
      "RMSE (testset)    0.9769  0.9537  0.9721  0.9625  0.9702  0.9671  0.0081  \n",
      "MAE (testset)     0.7410  0.7333  0.7469  0.7421  0.7431  0.7413  0.0045  \n",
      "Fit time          1.15    1.17    1.22    1.13    1.08    1.15    0.04    \n",
      "Test time         0.10    0.06    0.06    0.06    0.06    0.07    0.01    \n",
      "\n",
      "Algorithm Train Time\n",
      "1.3719029426574707 seconds\n",
      "\n",
      "Algorithm BUILD Anti-Testset Time\n",
      "1.3392219543457031 seconds\n",
      "\n",
      "Algorithm BUILD Anti-Testset Time\n",
      "3.3509840965270996 seconds\n",
      "\n",
      "Algorithm Testing Anti_testset Time\n",
      "38.21390223503113 seconds\n",
      "MAE:  0.2643\n",
      "RMSE: 0.3401\n",
      "\n",
      "Mean Absolute Error 0.2642843964469402\n",
      "\n",
      "Mean Square Error 0.340110313546458\n"
     ]
    }
   ],
   "source": [
    "mae = 0\n",
    "rmse = 0\n",
    "\n",
    "print(\"A co-clustering Algorithm\")\n",
    "compute_recommendations(CoClustering())"
   ]
  },
  {
   "cell_type": "code",
   "execution_count": null,
   "metadata": {
    "collapsed": true
   },
   "outputs": [],
   "source": []
  }
 ],
 "metadata": {
  "kernelspec": {
   "display_name": "Python 2",
   "language": "python",
   "name": "python2"
  },
  "language_info": {
   "codemirror_mode": {
    "name": "ipython",
    "version": 2
   },
   "file_extension": ".py",
   "mimetype": "text/x-python",
   "name": "python",
   "nbconvert_exporter": "python",
   "pygments_lexer": "ipython2",
   "version": "2.7.14"
  }
 },
 "nbformat": 4,
 "nbformat_minor": 2
}
